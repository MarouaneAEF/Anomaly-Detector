{
 "cells": [
  {
   "cell_type": "code",
   "execution_count": 1,
   "metadata": {},
   "outputs": [
    {
     "name": "stdout",
     "output_type": "stream",
     "text": [
      "Files already downloaded and verified\n"
     ]
    }
   ],
   "source": [
    "import torch \n",
    "import torchvision.utils as vutils \n",
    "from model import Discriminator, Encoder, Generator\n",
    "from dataloader import get_cifar_10\n",
    "\n",
    "device = torch.device(\"cpu\")\n",
    "dataloader = get_cifar_10(batch_size=128)\n",
    "latent_dim=256\n",
    "\n",
    "gen = Generator(latent_dim)\n",
    "dis = Discriminator(latent_dim, wasserstein=False)\n",
    "enc = Encoder(latent_dim)\n"
   ]
  },
  {
   "cell_type": "code",
   "execution_count": 2,
   "metadata": {},
   "outputs": [
    {
     "data": {
      "text/plain": [
       "Encoder(\n",
       "  (encStack): Sequential(\n",
       "    (0): Conv2d(3, 32, kernel_size=(5, 5), stride=(1, 1), bias=False)\n",
       "    (1): BatchNorm2d(32, eps=1e-05, momentum=0.1, affine=True, track_running_stats=True)\n",
       "    (2): LeakyReLU(negative_slope=0.1, inplace=True)\n",
       "    (3): Conv2d(32, 64, kernel_size=(4, 4), stride=(2, 2), bias=False)\n",
       "    (4): BatchNorm2d(64, eps=1e-05, momentum=0.1, affine=True, track_running_stats=True)\n",
       "    (5): LeakyReLU(negative_slope=0.1, inplace=True)\n",
       "    (6): Conv2d(64, 128, kernel_size=(4, 4), stride=(1, 1), bias=False)\n",
       "    (7): BatchNorm2d(128, eps=1e-05, momentum=0.1, affine=True, track_running_stats=True)\n",
       "    (8): LeakyReLU(negative_slope=0.1, inplace=True)\n",
       "    (9): Conv2d(128, 256, kernel_size=(4, 4), stride=(2, 2), bias=False)\n",
       "    (10): BatchNorm2d(256, eps=1e-05, momentum=0.1, affine=True, track_running_stats=True)\n",
       "    (11): LeakyReLU(negative_slope=0.1, inplace=True)\n",
       "    (12): Conv2d(256, 512, kernel_size=(4, 4), stride=(1, 1), bias=False)\n",
       "    (13): BatchNorm2d(512, eps=1e-05, momentum=0.1, affine=True, track_running_stats=True)\n",
       "    (14): LeakyReLU(negative_slope=0.1, inplace=True)\n",
       "    (15): Conv2d(512, 512, kernel_size=(1, 1), stride=(1, 1), bias=False)\n",
       "    (16): BatchNorm2d(512, eps=1e-05, momentum=0.1, affine=True, track_running_stats=True)\n",
       "    (17): LeakyReLU(negative_slope=0.1, inplace=True)\n",
       "    (18): Conv2d(512, 512, kernel_size=(1, 1), stride=(1, 1))\n",
       "    (19): Sigmoid()\n",
       "  )\n",
       ")"
      ]
     },
     "execution_count": 2,
     "metadata": {},
     "output_type": "execute_result"
    }
   ],
   "source": [
    "gen_model_path = \"./models/generator_600.pth\"\n",
    "enc_model_path = \"./models/encoder_600.pth\"\n",
    "dis_model_path = \"./models/discriminator_600.pth\"\n",
    "\n",
    "gen.load_state_dict(torch.load(gen_model_path))\n",
    "enc.load_state_dict(torch.load(enc_model_path))\n",
    "dis.load_state_dict(torch.load(dis_model_path))\n",
    "gen.to(device)\n",
    "enc.to(device)\n",
    "dis.to(device)\n",
    "gen.eval()\n",
    "dis.eval()\n",
    "enc.eval()"
   ]
  },
  {
   "cell_type": "code",
   "execution_count": 3,
   "metadata": {},
   "outputs": [],
   "source": [
    "test_loader = dataloader"
   ]
  },
  {
   "cell_type": "code",
   "execution_count": 4,
   "metadata": {},
   "outputs": [
    {
     "name": "stdout",
     "output_type": "stream",
     "text": [
      "Iter:0 / 391\n",
      "Iter:50 / 391\n",
      "Iter:100 / 391\n",
      "Iter:150 / 391\n",
      "Iter:200 / 391\n",
      "Iter:250 / 391\n",
      "Iter:300 / 391\n",
      "Iter:350 / 391\n"
     ]
    }
   ],
   "source": [
    "z_real = []\n",
    "for idx,  (x, _) in enumerate(test_loader):\n",
    "    # Defining labels \n",
    "    y_true = torch.ones(x.size(0), 1).to(device)\n",
    "    y_fake = torch.zeros(x.size(0),1).to(device)\n",
    "\n",
    "    # Noise for improving training \n",
    "    noise1 = torch.Tensor(x.size()).normal_(0, 0.001).to(device)\n",
    "    noise2 = torch.Tensor(x.size()).normal_(0, 0.001).to(device)\n",
    "                \n",
    "\n",
    "    # Generator \n",
    "    z_fake =torch.randn((x.size(0),latent_dim, 1, 1)).to(device)#, requires_grad=False)\n",
    "    x_fake = gen(z_fake)\n",
    "\n",
    "    # Encoder\n",
    "    x_true = x.float().to(device)\n",
    "    z_true = enc(x_true)\n",
    "    # out_true = dis(x_true + noise1, z_true)#.view(self.batch_sie, self.latent_dim, 1, 1))\n",
    "    # out_fake = dis(x_fake + noise2, z_fake)\n",
    "\n",
    "    z_real.append(z_true)\n",
    "\n",
    "    if idx % 50 == 0:\n",
    "        status = f\"Iter:{idx} / {len(test_loader)}\"\n",
    "        print(status)\n",
    "        vutils.save_image(torch.cat([x_true.data[:16], x_fake.data[:16]]), f'./reconstruction/comparison/{idx}.png')\n",
    "\n",
    "\n"
   ]
  },
  {
   "cell_type": "code",
   "execution_count": 5,
   "metadata": {},
   "outputs": [],
   "source": [
    "z = torch.stack([item for item in z_real[:-1]])"
   ]
  },
  {
   "cell_type": "code",
   "execution_count": 6,
   "metadata": {},
   "outputs": [
    {
     "data": {
      "text/plain": [
       "torch.Size([390, 128, 256, 1, 1])"
      ]
     },
     "execution_count": 6,
     "metadata": {},
     "output_type": "execute_result"
    }
   ],
   "source": [
    "z.size()"
   ]
  },
  {
   "cell_type": "code",
   "execution_count": 7,
   "metadata": {},
   "outputs": [],
   "source": [
    "Z = z.view(z.size()[0] * z.size()[1], z.size()[2] )"
   ]
  },
  {
   "cell_type": "code",
   "execution_count": 8,
   "metadata": {},
   "outputs": [
    {
     "data": {
      "text/plain": [
       "torch.Size([49920, 256])"
      ]
     },
     "execution_count": 8,
     "metadata": {},
     "output_type": "execute_result"
    }
   ],
   "source": [
    "Z.size()"
   ]
  },
  {
   "cell_type": "code",
   "execution_count": 9,
   "metadata": {},
   "outputs": [],
   "source": [
    "# samples from q(z|x)\n",
    "latent = Z.detach().numpy()"
   ]
  },
  {
   "cell_type": "code",
   "execution_count": 10,
   "metadata": {},
   "outputs": [
    {
     "data": {
      "text/plain": [
       "(49920, 256)"
      ]
     },
     "execution_count": 10,
     "metadata": {},
     "output_type": "execute_result"
    }
   ],
   "source": [
    "latent.shape"
   ]
  },
  {
   "cell_type": "code",
   "execution_count": 11,
   "metadata": {},
   "outputs": [],
   "source": [
    "from sklearn.manifold import TSNE\n",
    "import numpy as np\n",
    "latent_embeded = TSNE(n_components=2, init=\"random\").fit_transform( np.asarray(latent, dtype='float32'))"
   ]
  },
  {
   "cell_type": "code",
   "execution_count": 13,
   "metadata": {},
   "outputs": [],
   "source": [
    "from sklearn.cluster import KMeans\n",
    "kmeans = KMeans(n_clusters=15)\n",
    "kmeans.fit(latent_embeded)\n",
    "y_kmeans = kmeans.predict(latent_embeded)"
   ]
  },
  {
   "cell_type": "code",
   "execution_count": 19,
   "metadata": {},
   "outputs": [
    {
     "data": {
      "text/plain": [
       "<matplotlib.colorbar.Colorbar at 0x7f6cc8d36588>"
      ]
     },
     "execution_count": 19,
     "metadata": {},
     "output_type": "execute_result"
    },
    {
     "data": {
      "image/png": "[encoded data removed]",
      "text/plain": [
       "<Figure size 432x288 with 2 Axes>"
      ]
     },
     "metadata": {
      "needs_background": "light"
     },
     "output_type": "display_data"
    }
   ],
   "source": [
    "import matplotlib.pyplot as plt \n",
    "from pylab import *\n",
    "cmap = cm.get_cmap('PiYG', 10) \n",
    "\n",
    "plt.scatter(latent_embeded[:, 0], latent_embeded[:, 1], c=y_kmeans, s=50, cmap='viridis')\n",
    "\n",
    "centers = kmeans.cluster_centers_\n",
    "plt.scatter(centers[:, 0], centers[:, 1], c='black', s=200, alpha=0.5, cmap=cmap);\n",
    "\n",
    "plt.colorbar()"
   ]
  },
  {
   "cell_type": "code",
   "execution_count": null,
   "metadata": {},
   "outputs": [],
   "source": []
  }
 ],
 "metadata": {
  "interpreter": {
   "hash": "c45391b6a74e3d0745e61f07c9d51ce1705e4b46db7f92ce009fa77337c57b0d"
  },
  "kernelspec": {
   "display_name": "Python 3.6.13 64-bit ('test_sr': conda)",
   "language": "python",
   "name": "python3"
  },
  "language_info": {
   "codemirror_mode": {
    "name": "ipython",
    "version": 3
   },
   "file_extension": ".py",
   "mimetype": "text/x-python",
   "name": "python",
   "nbconvert_exporter": "python",
   "pygments_lexer": "ipython3",
   "version": "3.6.13"
  },
  "orig_nbformat": 4
 },
 "nbformat": 4,
 "nbformat_minor": 2
}
